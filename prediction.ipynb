{
 "cells": [
  {
   "cell_type": "code",
   "execution_count": 1,
   "metadata": {},
   "outputs": [],
   "source": [
    "import numpy as np\n",
    "import pandas as pd\n",
    "from tensorflow.keras.datasets import imdb\n",
    "from tensorflow.keras.preprocessing  import sequence\n",
    "from tensorflow.keras.models import load_model"
   ]
  },
  {
   "cell_type": "code",
   "execution_count": 3,
   "metadata": {},
   "outputs": [],
   "source": [
    "word_index=imdb.get_word_index()\n",
    "reverse_word_index={value: key for key,value in word_index.items()}\n"
   ]
  },
  {
   "cell_type": "code",
   "execution_count": 4,
   "metadata": {},
   "outputs": [
    {
     "name": "stderr",
     "output_type": "stream",
     "text": [
      "WARNING:absl:Compiled the loaded model, but the compiled metrics have yet to be built. `model.compile_metrics` will be empty until you train or evaluate the model.\n"
     ]
    },
    {
     "data": {
      "text/html": [
       "<pre style=\"white-space:pre;overflow-x:auto;line-height:normal;font-family:Menlo,'DejaVu Sans Mono',consolas,'Courier New',monospace\"><span style=\"font-weight: bold\">Model: \"sequential\"</span>\n",
       "</pre>\n"
      ],
      "text/plain": [
       "\u001b[1mModel: \"sequential\"\u001b[0m\n"
      ]
     },
     "metadata": {},
     "output_type": "display_data"
    },
    {
     "data": {
      "text/html": [
       "<pre style=\"white-space:pre;overflow-x:auto;line-height:normal;font-family:Menlo,'DejaVu Sans Mono',consolas,'Courier New',monospace\">┏━━━━━━━━━━━━━━━━━━━━━━━━━━━━━━━━━┳━━━━━━━━━━━━━━━━━━━━━━━━┳━━━━━━━━━━━━━━━┓\n",
       "┃<span style=\"font-weight: bold\"> Layer (type)                    </span>┃<span style=\"font-weight: bold\"> Output Shape           </span>┃<span style=\"font-weight: bold\">       Param # </span>┃\n",
       "┡━━━━━━━━━━━━━━━━━━━━━━━━━━━━━━━━━╇━━━━━━━━━━━━━━━━━━━━━━━━╇━━━━━━━━━━━━━━━┩\n",
       "│ embedding (<span style=\"color: #0087ff; text-decoration-color: #0087ff\">Embedding</span>)           │ (<span style=\"color: #00af00; text-decoration-color: #00af00\">32</span>, <span style=\"color: #00af00; text-decoration-color: #00af00\">500</span>, <span style=\"color: #00af00; text-decoration-color: #00af00\">128</span>)         │     <span style=\"color: #00af00; text-decoration-color: #00af00\">1,280,000</span> │\n",
       "├─────────────────────────────────┼────────────────────────┼───────────────┤\n",
       "│ simple_rnn (<span style=\"color: #0087ff; text-decoration-color: #0087ff\">SimpleRNN</span>)          │ (<span style=\"color: #00af00; text-decoration-color: #00af00\">32</span>, <span style=\"color: #00af00; text-decoration-color: #00af00\">128</span>)              │        <span style=\"color: #00af00; text-decoration-color: #00af00\">32,896</span> │\n",
       "├─────────────────────────────────┼────────────────────────┼───────────────┤\n",
       "│ dense (<span style=\"color: #0087ff; text-decoration-color: #0087ff\">Dense</span>)                   │ (<span style=\"color: #00af00; text-decoration-color: #00af00\">32</span>, <span style=\"color: #00af00; text-decoration-color: #00af00\">1</span>)                │           <span style=\"color: #00af00; text-decoration-color: #00af00\">129</span> │\n",
       "└─────────────────────────────────┴────────────────────────┴───────────────┘\n",
       "</pre>\n"
      ],
      "text/plain": [
       "┏━━━━━━━━━━━━━━━━━━━━━━━━━━━━━━━━━┳━━━━━━━━━━━━━━━━━━━━━━━━┳━━━━━━━━━━━━━━━┓\n",
       "┃\u001b[1m \u001b[0m\u001b[1mLayer (type)                   \u001b[0m\u001b[1m \u001b[0m┃\u001b[1m \u001b[0m\u001b[1mOutput Shape          \u001b[0m\u001b[1m \u001b[0m┃\u001b[1m \u001b[0m\u001b[1m      Param #\u001b[0m\u001b[1m \u001b[0m┃\n",
       "┡━━━━━━━━━━━━━━━━━━━━━━━━━━━━━━━━━╇━━━━━━━━━━━━━━━━━━━━━━━━╇━━━━━━━━━━━━━━━┩\n",
       "│ embedding (\u001b[38;5;33mEmbedding\u001b[0m)           │ (\u001b[38;5;34m32\u001b[0m, \u001b[38;5;34m500\u001b[0m, \u001b[38;5;34m128\u001b[0m)         │     \u001b[38;5;34m1,280,000\u001b[0m │\n",
       "├─────────────────────────────────┼────────────────────────┼───────────────┤\n",
       "│ simple_rnn (\u001b[38;5;33mSimpleRNN\u001b[0m)          │ (\u001b[38;5;34m32\u001b[0m, \u001b[38;5;34m128\u001b[0m)              │        \u001b[38;5;34m32,896\u001b[0m │\n",
       "├─────────────────────────────────┼────────────────────────┼───────────────┤\n",
       "│ dense (\u001b[38;5;33mDense\u001b[0m)                   │ (\u001b[38;5;34m32\u001b[0m, \u001b[38;5;34m1\u001b[0m)                │           \u001b[38;5;34m129\u001b[0m │\n",
       "└─────────────────────────────────┴────────────────────────┴───────────────┘\n"
      ]
     },
     "metadata": {},
     "output_type": "display_data"
    },
    {
     "data": {
      "text/html": [
       "<pre style=\"white-space:pre;overflow-x:auto;line-height:normal;font-family:Menlo,'DejaVu Sans Mono',consolas,'Courier New',monospace\"><span style=\"font-weight: bold\"> Total params: </span><span style=\"color: #00af00; text-decoration-color: #00af00\">1,313,027</span> (5.01 MB)\n",
       "</pre>\n"
      ],
      "text/plain": [
       "\u001b[1m Total params: \u001b[0m\u001b[38;5;34m1,313,027\u001b[0m (5.01 MB)\n"
      ]
     },
     "metadata": {},
     "output_type": "display_data"
    },
    {
     "data": {
      "text/html": [
       "<pre style=\"white-space:pre;overflow-x:auto;line-height:normal;font-family:Menlo,'DejaVu Sans Mono',consolas,'Courier New',monospace\"><span style=\"font-weight: bold\"> Trainable params: </span><span style=\"color: #00af00; text-decoration-color: #00af00\">1,313,025</span> (5.01 MB)\n",
       "</pre>\n"
      ],
      "text/plain": [
       "\u001b[1m Trainable params: \u001b[0m\u001b[38;5;34m1,313,025\u001b[0m (5.01 MB)\n"
      ]
     },
     "metadata": {},
     "output_type": "display_data"
    },
    {
     "data": {
      "text/html": [
       "<pre style=\"white-space:pre;overflow-x:auto;line-height:normal;font-family:Menlo,'DejaVu Sans Mono',consolas,'Courier New',monospace\"><span style=\"font-weight: bold\"> Non-trainable params: </span><span style=\"color: #00af00; text-decoration-color: #00af00\">0</span> (0.00 B)\n",
       "</pre>\n"
      ],
      "text/plain": [
       "\u001b[1m Non-trainable params: \u001b[0m\u001b[38;5;34m0\u001b[0m (0.00 B)\n"
      ]
     },
     "metadata": {},
     "output_type": "display_data"
    },
    {
     "data": {
      "text/html": [
       "<pre style=\"white-space:pre;overflow-x:auto;line-height:normal;font-family:Menlo,'DejaVu Sans Mono',consolas,'Courier New',monospace\"><span style=\"font-weight: bold\"> Optimizer params: </span><span style=\"color: #00af00; text-decoration-color: #00af00\">2</span> (12.00 B)\n",
       "</pre>\n"
      ],
      "text/plain": [
       "\u001b[1m Optimizer params: \u001b[0m\u001b[38;5;34m2\u001b[0m (12.00 B)\n"
      ]
     },
     "metadata": {},
     "output_type": "display_data"
    }
   ],
   "source": [
    "model=load_model('simple_rnn_imdb.h5')\n",
    "model.summary()\n"
   ]
  },
  {
   "cell_type": "code",
   "execution_count": 5,
   "metadata": {},
   "outputs": [
    {
     "data": {
      "text/plain": [
       "[array([[ 0.3749122 ,  0.32466924, -0.23250331, ..., -0.42084408,\n",
       "         -0.39977455, -0.2511957 ],\n",
       "        [ 0.03192534,  0.01172786, -0.01534529, ..., -0.00221753,\n",
       "         -0.03247041, -0.0330604 ],\n",
       "        [ 0.04492199, -0.01184592, -0.02862743, ..., -0.09588552,\n",
       "         -0.08598045, -0.07259966],\n",
       "        ...,\n",
       "        [ 0.02212204, -0.03303832, -0.01312678, ..., -0.07327384,\n",
       "          0.01004418,  0.03606541],\n",
       "        [ 0.00170493,  0.0169765 , -0.01459698, ..., -0.00910855,\n",
       "          0.02804701, -0.00372082],\n",
       "        [-0.00663562, -0.04400431,  0.01337005, ...,  0.02484585,\n",
       "         -0.01590126, -0.01176465]], dtype=float32),\n",
       " array([[-0.09870198, -0.07853176,  0.02486672, ...,  0.03778399,\n",
       "         -0.09879665,  0.03446606],\n",
       "        [ 0.03768631, -0.01703965,  0.00760509, ...,  0.08724234,\n",
       "         -0.06783213,  0.05078276],\n",
       "        [-0.14038311, -0.00109694, -0.04143927, ..., -0.02849983,\n",
       "         -0.11951943,  0.14746472],\n",
       "        ...,\n",
       "        [ 0.04492208, -0.02785848, -0.06724215, ..., -0.0115083 ,\n",
       "          0.12697732,  0.11486086],\n",
       "        [-0.10814154,  0.14149342, -0.11904895, ..., -0.11395589,\n",
       "         -0.08128774,  0.0585763 ],\n",
       "        [-0.09208014, -0.05906309, -0.09648588, ...,  0.02454742,\n",
       "          0.09022547, -0.11660583]], dtype=float32),\n",
       " array([[ 0.11708073, -0.04232681,  0.07059812, ...,  0.00200542,\n",
       "          0.26227567,  0.0684592 ],\n",
       "        [-0.16360064, -0.12713125, -0.02619222, ...,  0.01454535,\n",
       "         -0.06445985, -0.0617373 ],\n",
       "        [-0.10931294, -0.10044041, -0.0646565 , ...,  0.10693988,\n",
       "          0.12193634,  0.05735334],\n",
       "        ...,\n",
       "        [ 0.06734886,  0.01975249, -0.05963786, ...,  0.10470422,\n",
       "          0.06159012,  0.07504834],\n",
       "        [ 0.10074963, -0.05599197,  0.02298009, ..., -0.25072902,\n",
       "         -0.04802024, -0.40234372],\n",
       "        [ 0.16502103,  0.07809858, -0.06727791, ..., -0.02829807,\n",
       "          0.07921048,  0.01552376]], dtype=float32),\n",
       " array([-2.3436621e-02, -4.0436570e-02, -4.3163925e-02,  1.3545290e-02,\n",
       "         2.9354102e-03, -8.6656129e-03, -1.5880371e-02, -7.3633268e-03,\n",
       "         3.1780872e-02,  1.1220307e-02, -9.0552531e-03, -4.0145695e-02,\n",
       "        -6.1220743e-02, -2.7244084e-02, -7.2157866e-04, -1.6820345e-02,\n",
       "        -4.0763613e-02,  4.0488809e-02, -2.5651023e-02, -3.3347178e-02,\n",
       "         1.1491718e-02,  1.2633163e-03, -3.6722209e-02, -9.8850233e-03,\n",
       "         1.2821232e-02, -1.2227915e-02,  1.0656162e-02, -6.2134314e-02,\n",
       "        -1.9654738e-02, -1.8074812e-02, -3.9266698e-02, -9.1448287e-03,\n",
       "         1.2449178e-02,  2.4797941e-02, -3.5282116e-02, -2.6817864e-02,\n",
       "        -1.4509017e-02,  4.4949096e-02, -1.2917075e-02, -1.2845851e-02,\n",
       "        -1.4892678e-02, -2.7180387e-04, -1.3034765e-02, -8.7378575e-03,\n",
       "        -2.2161465e-02, -1.6474215e-02, -2.9870454e-02, -9.1732107e-03,\n",
       "         1.1546380e-02,  2.6934922e-02, -1.5134767e-02, -2.2479879e-02,\n",
       "         1.1874199e-02,  2.9160645e-02, -4.5048929e-04, -3.8101338e-02,\n",
       "        -6.9547165e-03, -6.0489825e-03, -7.3206979e-03, -3.4091122e-02,\n",
       "        -7.2862795e-03, -1.4468539e-02, -4.1210413e-02, -2.6074328e-02,\n",
       "        -1.2463471e-02,  2.2131063e-02, -1.0775242e-02, -3.4054816e-02,\n",
       "         1.2105408e-02,  2.8904987e-04,  8.0491975e-03,  1.2379853e-02,\n",
       "         3.0868970e-02, -2.2541285e-02, -2.3519397e-02,  3.6907680e-03,\n",
       "        -4.3058384e-02, -1.7838044e-02,  3.0574214e-02, -1.8596811e-02,\n",
       "         3.0004703e-02, -1.7521357e-02, -1.5650177e-02, -9.0820165e-03,\n",
       "        -9.4952276e-03,  8.8984184e-03,  2.9341614e-02, -1.1090741e-02,\n",
       "         7.1658934e-03,  3.9569628e-03,  2.0499023e-04, -2.9491283e-02,\n",
       "         2.3838200e-02, -1.0544126e-02,  1.7164452e-02,  3.4269333e-02,\n",
       "         2.9136792e-02,  8.1583858e-03, -1.2500289e-02, -1.4072774e-03,\n",
       "        -1.4241524e-02, -1.5483326e-02, -2.4678065e-02, -3.8420800e-02,\n",
       "         1.9897992e-02,  2.4317869e-03, -1.8687900e-02,  1.8502301e-02,\n",
       "        -4.5154956e-03,  1.0190792e-04, -1.7561313e-02, -2.6715403e-02,\n",
       "         7.9854848e-03,  9.8941673e-05, -5.4926774e-03, -2.8378188e-03,\n",
       "         3.4492349e-03, -1.8819749e-02, -4.1158469e-03,  2.4174605e-03,\n",
       "         2.5139495e-03, -2.2189194e-02, -3.1226087e-02, -2.1181054e-02,\n",
       "        -8.8442648e-03, -2.8004820e-02, -3.4707651e-02,  3.7921850e-02],\n",
       "       dtype=float32),\n",
       " array([[-0.02171988],\n",
       "        [-0.0933781 ],\n",
       "        [-0.04304378],\n",
       "        [ 0.03052352],\n",
       "        [-0.22088255],\n",
       "        [-0.14029586],\n",
       "        [-0.28469878],\n",
       "        [-0.11306903],\n",
       "        [-0.10445314],\n",
       "        [-0.12068581],\n",
       "        [-0.01254673],\n",
       "        [-0.03401561],\n",
       "        [-0.22782785],\n",
       "        [-0.16979243],\n",
       "        [-0.16948621],\n",
       "        [-0.20557591],\n",
       "        [ 0.03274249],\n",
       "        [ 0.18025532],\n",
       "        [ 0.11372674],\n",
       "        [-0.17224261],\n",
       "        [-0.1337596 ],\n",
       "        [ 0.10909759],\n",
       "        [ 0.01417685],\n",
       "        [ 0.23183534],\n",
       "        [ 0.10643311],\n",
       "        [-0.17941661],\n",
       "        [ 0.10831786],\n",
       "        [-0.07007046],\n",
       "        [ 0.10008963],\n",
       "        [ 0.02086354],\n",
       "        [ 0.10539842],\n",
       "        [-0.2006424 ],\n",
       "        [ 0.19767177],\n",
       "        [-0.12921405],\n",
       "        [-0.12277678],\n",
       "        [-0.14503586],\n",
       "        [ 0.0254552 ],\n",
       "        [-0.21060184],\n",
       "        [ 0.09365582],\n",
       "        [ 0.1764822 ],\n",
       "        [-0.07857139],\n",
       "        [ 0.06523807],\n",
       "        [-0.04658886],\n",
       "        [-0.17929852],\n",
       "        [-0.01604438],\n",
       "        [ 0.19492598],\n",
       "        [-0.02576558],\n",
       "        [-0.06842159],\n",
       "        [-0.27105018],\n",
       "        [-0.16298816],\n",
       "        [ 0.04516257],\n",
       "        [ 0.14305216],\n",
       "        [ 0.20814227],\n",
       "        [-0.16934854],\n",
       "        [-0.12759191],\n",
       "        [-0.02981068],\n",
       "        [ 0.19851418],\n",
       "        [ 0.1713004 ],\n",
       "        [ 0.25348452],\n",
       "        [-0.00706415],\n",
       "        [ 0.22773805],\n",
       "        [ 0.00723096],\n",
       "        [-0.11470196],\n",
       "        [ 0.15516964],\n",
       "        [-0.02752163],\n",
       "        [-0.13078974],\n",
       "        [ 0.19829658],\n",
       "        [ 0.10516681],\n",
       "        [-0.2408008 ],\n",
       "        [ 0.24400124],\n",
       "        [-0.16029942],\n",
       "        [-0.2532179 ],\n",
       "        [-0.19831629],\n",
       "        [ 0.19417468],\n",
       "        [-0.19204235],\n",
       "        [-0.17595999],\n",
       "        [ 0.04611159],\n",
       "        [-0.13691206],\n",
       "        [-0.20802289],\n",
       "        [ 0.01765873],\n",
       "        [ 0.09653363],\n",
       "        [ 0.21741335],\n",
       "        [ 0.4055822 ],\n",
       "        [ 0.04231147],\n",
       "        [ 0.10041283],\n",
       "        [-0.05117982],\n",
       "        [-0.0064339 ],\n",
       "        [-0.16759785],\n",
       "        [-0.22236086],\n",
       "        [-0.20101298],\n",
       "        [-0.25942698],\n",
       "        [ 0.15526873],\n",
       "        [-0.04333398],\n",
       "        [-0.13470195],\n",
       "        [-0.10957146],\n",
       "        [-0.17590414],\n",
       "        [-0.2956532 ],\n",
       "        [ 0.13879088],\n",
       "        [ 0.03634488],\n",
       "        [-0.203319  ],\n",
       "        [-0.01493198],\n",
       "        [ 0.26124275],\n",
       "        [ 0.11687173],\n",
       "        [-0.05072321],\n",
       "        [ 0.00327823],\n",
       "        [ 0.02201976],\n",
       "        [ 0.04973479],\n",
       "        [ 0.07722419],\n",
       "        [-0.03982224],\n",
       "        [ 0.10069384],\n",
       "        [ 0.16841069],\n",
       "        [ 0.14538921],\n",
       "        [-0.1104248 ],\n",
       "        [-0.03098487],\n",
       "        [ 0.22137067],\n",
       "        [-0.18655933],\n",
       "        [-0.01994275],\n",
       "        [ 0.01542348],\n",
       "        [-0.09569946],\n",
       "        [ 0.15004264],\n",
       "        [-0.20967369],\n",
       "        [ 0.06240691],\n",
       "        [ 0.13357459],\n",
       "        [ 0.20874482],\n",
       "        [ 0.18132938],\n",
       "        [ 0.00771508],\n",
       "        [ 0.10946513],\n",
       "        [-0.17391358]], dtype=float32),\n",
       " array([0.23469867], dtype=float32)]"
      ]
     },
     "execution_count": 5,
     "metadata": {},
     "output_type": "execute_result"
    }
   ],
   "source": [
    "model.get_weights()"
   ]
  },
  {
   "cell_type": "code",
   "execution_count": null,
   "metadata": {},
   "outputs": [],
   "source": [
    "def preprocess_text(text):\n",
    "    words=text.lower().split()\n",
    "    encoded_review=[word_index.get(word,2)+ 3 for word in words]"
   ]
  },
  {
   "cell_type": "code",
   "execution_count": null,
   "metadata": {},
   "outputs": [],
   "source": []
  },
  {
   "cell_type": "code",
   "execution_count": null,
   "metadata": {},
   "outputs": [],
   "source": []
  },
  {
   "cell_type": "code",
   "execution_count": null,
   "metadata": {},
   "outputs": [],
   "source": []
  }
 ],
 "metadata": {
  "kernelspec": {
   "display_name": "Python 3",
   "language": "python",
   "name": "python3"
  },
  "language_info": {
   "codemirror_mode": {
    "name": "ipython",
    "version": 3
   },
   "file_extension": ".py",
   "mimetype": "text/x-python",
   "name": "python",
   "nbconvert_exporter": "python",
   "pygments_lexer": "ipython3",
   "version": "3.11.11"
  }
 },
 "nbformat": 4,
 "nbformat_minor": 2
}
